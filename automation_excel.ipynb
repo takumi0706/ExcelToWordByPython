{
 "cells": [
  {
   "cell_type": "code",
   "execution_count": null,
   "metadata": {},
   "outputs": [],
   "source": [
    "!pip install openpyxl\n",
    "!pip install pandas"
   ]
  },
  {
   "cell_type": "code",
   "execution_count": 3,
   "metadata": {},
   "outputs": [],
   "source": [
    "import openpyxl\n",
    "import pandas as pd\n",
    "import glob"
   ]
  },
  {
   "cell_type": "code",
   "execution_count": 69,
   "metadata": {},
   "outputs": [],
   "source": [
    "import_file_path = 'your_file_location'\n",
    "excel_sheet_name = '全部員'\n",
    "export_file_path = 'your_file_location'"
   ]
  },
  {
   "cell_type": "code",
   "execution_count": 70,
   "metadata": {},
   "outputs": [],
   "source": [
    "df_order = pd.read_excel(import_file_path, sheet_name = excel_sheet_name)"
   ]
  },
  {
   "cell_type": "code",
   "execution_count": null,
   "metadata": {},
   "outputs": [],
   "source": [
    "df_order"
   ]
  },
  {
   "cell_type": "code",
   "execution_count": 72,
   "metadata": {},
   "outputs": [],
   "source": [
    "people_name = df_order['氏名'].unique()\n",
    "people_location = df_order['住所'].unique()\n",
    "people_birthday = df_order['生年月日'].unique()"
   ]
  },
  {
   "cell_type": "code",
   "execution_count": null,
   "metadata": {},
   "outputs": [],
   "source": [
    "people_name\n",
    "people_location\n",
    "people_birthday"
   ]
  },
  {
   "cell_type": "code",
   "execution_count": null,
   "metadata": {},
   "outputs": [],
   "source": [
    "for person_name in people_name:\n",
    "    print(person_name)\n",
    "for person_location in people_location:\n",
    "    print(person_location)\n",
    "for person_birthday in people_birthday:\n",
    "    print(person_birthday)\n"
   ]
  },
  {
   "cell_type": "code",
   "execution_count": null,
   "metadata": {},
   "outputs": [],
   "source": [
    "from datetime import datetime\n",
    "for person_birthday in people_birthday:\n",
    "        \n",
    "    # 元の日付の文字列のリスト\n",
    "    date_string = str(person_birthday)\n",
    "\n",
    "    # 日付をパースしてdatetimeオブジェクトのリストを作成\n",
    "    dates = [datetime.strptime(date_string, '%Y-%m-%d %H:%M:%S')]\n",
    "\n",
    "    # 年、月、日をそれぞれ抽出\n",
    "    years = [date.year for date in dates]\n",
    "    months = [date.month for date in dates]\n",
    "    days = [date.day for date in dates]\n",
    "\n",
    "    # 結果の確認\n",
    "    print(\"Years:\", years)\n",
    "    print(\"Months:\", months)\n",
    "    print(\"Days:\", days)\n"
   ]
  },
  {
   "cell_type": "code",
   "execution_count": null,
   "metadata": {},
   "outputs": [],
   "source": [
    "pip install python-docx"
   ]
  },
  {
   "cell_type": "code",
   "execution_count": 42,
   "metadata": {},
   "outputs": [],
   "source": [
    "from docx import Document "
   ]
  },
  {
   "cell_type": "code",
   "execution_count": 168,
   "metadata": {},
   "outputs": [],
   "source": [
    "from docx.oxml import OxmlElement\n",
    "from docx.shared import RGBColor\n",
    "from docx.oxml.ns import qn\n",
    "\n",
    "def set_cell_borders_black(cell):\n",
    "    # セルの枠線の設定を行うためのプロパティを作成・設定\n",
    "    tcPr = cell._element.get_or_add_tcPr()\n",
    "    \n",
    "    # 上の枠線\n",
    "    top = OxmlElement('w:top')\n",
    "    top.set(qn('w:val'), 'single')\n",
    "    top.set(qn('w:sz'), '4')\n",
    "    top.set(qn('w:color'), '000000')  # 黒色\n",
    "    tcPr.append(top)\n",
    "\n",
    "    # 左の枠線\n",
    "    left = OxmlElement('w:left')\n",
    "    left.set(qn('w:val'), 'single')\n",
    "    left.set(qn('w:sz'), '4')\n",
    "    left.set(qn('w:color'), '000000')  # 黒色\n",
    "    tcPr.append(left)\n",
    "\n",
    "    # 下の枠線\n",
    "    bottom = OxmlElement('w:bottom')\n",
    "    bottom.set(qn('w:val'), 'single')\n",
    "    bottom.set(qn('w:sz'), '4')\n",
    "    bottom.set(qn('w:color'), '000000')  # 黒色\n",
    "    tcPr.append(bottom)\n",
    "\n",
    "    # 右の枠線\n",
    "    right = OxmlElement('w:right')\n",
    "    right.set(qn('w:val'), 'single')\n",
    "    right.set(qn('w:sz'), '4')\n",
    "    right.set(qn('w:color'), '000000')  # 黒色\n",
    "    tcPr.append(right)\n"
   ]
  },
  {
   "cell_type": "code",
   "execution_count": 173,
   "metadata": {},
   "outputs": [],
   "source": [
    "\n",
    "from docx.shared import Pt,Inches\n",
    "from docx.enum.text import WD_PARAGRAPH_ALIGNMENT\n",
    "from docx.oxml import OxmlElement\n",
    "\n",
    "for i in range(len(people_birthday)):\n",
    "    \n",
    "    # 新しいドキュメントを作成\n",
    "    doc = Document()\n",
    "    chiji_name = \"name\"\n",
    "\n",
    "    # タイトルを追加し、中央揃えに設定\n",
    "    doc.add_paragraph('第38号の5様式\\n\\n')\n",
    "    doc.add_paragraph('comment\\n').alignment = WD_PARAGRAPH_ALIGNMENT.CENTER\n",
    "    doc.add_paragraph('　　石川県知事　'+chiji_name+'様\\n')\n",
    "    # 本文を追加\n",
    "    doc.add_paragraph('coment')\n",
    "\n",
    "    table = doc.add_table(rows=9, cols=2)  # 行数を9に修正（備考含む）\n",
    "\n",
    "    for row in table.rows:\n",
    "        for cell in row.cells:\n",
    "            set_cell_borders_black(cell)\n",
    "    # 列幅を設定\n",
    "    for row in table.rows:\n",
    "        row.cells[0].width = Inches(1.4)\n",
    "        row.cells[1].width = Inches(4.3)\n",
    "    # 元の日付の文字列のリスト\n",
    "    date_string = str(people_birthday[i])\n",
    "    # 日付をパースしてdatetimeオブジェクトのリストを作成\n",
    "    date = datetime.strptime(date_string, '%Y-%m-%d %H:%M:%S')\n",
    "\n",
    "    # 年、月、日をそれぞれ抽出\n",
    "    years = date.year\n",
    "    months = date.month\n",
    "    days = date.day\n",
    "\n",
    "    # セルのテキストを設定\n",
    "    rows_contents = [\n",
    "        ('利用ゴルフ場名', ''),\n",
    "        ('利用年月日', '年　　　月　　　日'),\n",
    "        ('住所', people_location[i]),\n",
    "        ('区分', '□　メンバー　　□　ビジター'),\n",
    "        ('氏名', people_name[i]),\n",
    "        ('生年月日', '大・昭・平'+str(years-1988)+'年'+str(months)+'月'+str(days)+'日生'),\n",
    "        ('非課税等適用区分', '□70歳以上　□18歳未満　□障害者等\\n□教育活動等　□国民スポーツ大会　□スポーツマスターズ等'),\n",
    "        ('証明書の種類', '□運転免許証　□学生証　□職員証　□パスポート\\n□障害者手帳等　□学校長の証明　□教育委員会の証明\\n□その他(　　　　　　　　)'),\n",
    "        ('備考','')\n",
    "    ]\n",
    "\n",
    "    for row, (label, content) in zip(table.rows, rows_contents):\n",
    "        row.cells[0].text = label\n",
    "        row.cells[1].text = content\n",
    "        for cell in row.cells:\n",
    "            paragraphs = cell.paragraphs\n",
    "            for paragraph in paragraphs:\n",
    "                paragraph.alignment = WD_PARAGRAPH_ALIGNMENT.CENTER\n",
    "                for run in paragraph.runs:\n",
    "                    run.font.size = Pt(10)\n",
    "\n",
    "\n",
    "    remarks = '''備考　1　該当する□の中にレ点を付けてください。\n",
    "　　　2　70歳以上、18歳未満及び障害者等の方は、この申請書を、利用するゴルフ場が最初の\\n　　　利用である場合にゴルフ場に提出してください。また、受付の際に非課税利用に該当する\\n　　　ことを証明する証明書をゴルフ場に提示してください。\n",
    "　　　3　教育活動等、国民スポーツ大会、スポーツマスターズ等の利用の場合は、利用の都度\\n　　　この申請書を提出してください。その際には、受付に非課税・課税免除利用に該当するこ\\n　　　とを証明する証明書をゴルフ場に提出してください。\n",
    "　　　4　この申請書を提出しない場合、2又は3の証明書を提示又は提出しない場合は、非課\\n　　　税・課税免除の適用を受けられない場合があります。\n",
    "\n",
    "'''\n",
    "    doc.add_paragraph(remarks).aligment = WD_PARAGRAPH_ALIGNMENT.JUSTIFY\n",
    "    \n",
    "\n",
    "\n",
    "    # ファイルを保存\n",
    "\n",
    "    file_path = 'your_file_location'\n",
    "    doc.save(file_path)\n",
    "\n",
    "    file_path\n"
   ]
  },
  {
   "cell_type": "code",
   "execution_count": 174,
   "metadata": {},
   "outputs": [],
   "source": [
    "from docx  import Document \n",
    "from docx.shared import Pt\n",
    "\n",
    "for i in range(len(people_birthday)):\n",
    "    doc = Document('your_file_location')\n",
    "    \n",
    "    for paragraph in doc.paragraphs:\n",
    "        for run in paragraph.runs:\n",
    "            run.font.size = Pt(10)\n",
    "            run.font.name = 'ＭＳ 明朝' \n",
    "    \n",
    "    doc.save('your_file_location')        "
   ]
  }
 ],
 "metadata": {
  "kernelspec": {
   "display_name": "Python 3",
   "language": "python",
   "name": "python3"
  },
  "language_info": {
   "codemirror_mode": {
    "name": "ipython",
    "version": 3
   },
   "file_extension": ".py",
   "mimetype": "text/x-python",
   "name": "python",
   "nbconvert_exporter": "python",
   "pygments_lexer": "ipython3",
   "version": "3.10.5"
  }
 },
 "nbformat": 4,
 "nbformat_minor": 2
}
